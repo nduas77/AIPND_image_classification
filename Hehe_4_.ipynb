{
  "nbformat": 4,
  "nbformat_minor": 0,
  "metadata": {
    "colab": {
      "name": " Hehe 4 .ipynb",
      "version": "0.3.2",
      "provenance": [],
      "collapsed_sections": [],
      "include_colab_link": true
    },
    "kernelspec": {
      "display_name": "Python 3",
      "language": "python",
      "name": "python3"
    },
    "accelerator": "GPU"
  },
  "cells": [
    {
      "cell_type": "markdown",
      "metadata": {
        "id": "view-in-github",
        "colab_type": "text"
      },
      "source": [
        "<a href=\"https://colab.research.google.com/github/nduas77/AIPND_image_classification/blob/master/Hehe_4_.ipynb\" target=\"_parent\"><img src=\"https://colab.research.google.com/assets/colab-badge.svg\" alt=\"Open In Colab\"/></a>"
      ]
    },
    {
      "metadata": {
        "_uuid": "80d8c5e8466fb41a56fd355b77874f3f1c56641c",
        "colab_type": "text",
        "id": "Ng8u2U-mRR9y"
      },
      "cell_type": "markdown",
      "source": [
        "# Udacity PyTorch Scholarship Final Lab Challenge"
      ]
    },
    {
      "metadata": {
        "_uuid": "44b22f84bb8538f43f5a2671f10d515b9d9eaf7b",
        "colab_type": "text",
        "id": "861PXRVgRR9_"
      },
      "cell_type": "markdown",
      "source": [
        "**By [nduati(Kaggle - nduas77)](https://www.linkedin.com/in/nduas77)**"
      ]
    },
    {
      "metadata": {
        "colab_type": "code",
        "id": "kzMzM6jCSc5h",
        "outputId": "afc82217-cec3-4b19-9204-d0be2f5236fb",
        "colab": {
          "base_uri": "https://localhost:8080/",
          "height": 102
        }
      },
      "cell_type": "code",
      "source": [
        "!pip install --no-cache-dir -I pillow"
      ],
      "execution_count": 1,
      "outputs": [
        {
          "output_type": "stream",
          "text": [
            "Collecting pillow\n",
            "\u001b[?25l  Downloading https://files.pythonhosted.org/packages/92/e3/217dfd0834a51418c602c96b110059c477260c7fee898542b100913947cf/Pillow-5.4.0-cp36-cp36m-manylinux1_x86_64.whl (2.0MB)\n",
            "\u001b[K    100% |████████████████████████████████| 2.0MB 33.6MB/s \n",
            "\u001b[?25hInstalling collected packages: pillow\n",
            "Successfully installed pillow-5.4.0\n"
          ],
          "name": "stdout"
        }
      ]
    },
    {
      "metadata": {
        "colab_type": "code",
        "id": "SfY2pRKLSIoa",
        "colab": {}
      },
      "cell_type": "code",
      "source": [
        "#!wget 'https://s3.amazonaws.com/content.udacity-data.com/courses/nd188/flower_data.zip'\n",
        "#!unzip flower_data.zip"
      ],
      "execution_count": 0,
      "outputs": []
    },
    {
      "metadata": {
        "colab_type": "code",
        "id": "Wiu4CZXERYLM",
        "colab": {}
      },
      "cell_type": "code",
      "source": [
        "# http://pytorch.org/\n",
        "#from os.path import exists\n",
        "#from wheel.pep425tags import get_abbr_impl, get_impl_ver, get_abi_tag\n",
        "#platform = '{}{}-{}'.format(get_abbr_impl(), get_impl_ver(), get_abi_tag())\n",
        "#cuda_output = !ldconfig -p|grep cudart.so|sed -e 's/.*\\.\\([0-9]*\\)\\.\\([0-9]*\\)$/cu\\1\\2/'\n",
        "#accelerator = cuda_output[0] if exists('/dev/nvidia0') else 'cpu'\n",
        "\n",
        "#!pip install -q http://download.pytorch.org/whl/{accelerator}/torch-0.4.1-{platform}-linux_x86_64.whl torchvision\n",
        "#import torch\n",
        "#!pip install torch==0.4.0 torchvision"
      ],
      "execution_count": 0,
      "outputs": []
    },
    {
      "metadata": {
        "_cell_guid": "b1076dfc-b9ad-4769-8c92-a6c4dae69d19",
        "_uuid": "8f2839f25d086af736a60e9eeb907d3b93b6e0e5",
        "colab_type": "code",
        "id": "7Y0rDBt8RR-F",
        "colab": {}
      },
      "cell_type": "code",
      "source": [
        "%matplotlib inline\n",
        "%config InlineBackend.figure_format = 'retina'\n",
        "\n",
        "import matplotlib.pyplot as plt\n",
        "\n",
        "import torch\n",
        "from torch import nn\n",
        "from torch import optim\n",
        "import torch.nn.functional as F\n",
        "from torchvision import datasets, transforms, models\n",
        "import numpy as np"
      ],
      "execution_count": 0,
      "outputs": []
    },
    {
      "metadata": {
        "_uuid": "002f25de7252b2f056743dafe141742d749afff3",
        "colab_type": "code",
        "id": "0RiXDb9GRR-m",
        "colab": {}
      },
      "cell_type": "code",
      "source": [
        "data_dir = 'flower_data'\n",
        "\n",
        "# TODO: Define transforms for the training data and testing data\n",
        "train_transforms = transforms.Compose([transforms.RandomRotation(30),\n",
        "                                       transforms.RandomResizedCrop(224),\n",
        "                                       transforms.RandomHorizontalFlip(),\n",
        "                                       transforms.ToTensor(),\n",
        "                                       transforms.Normalize([0.485, 0.456, 0.406],\n",
        "                                                            [0.229, 0.224, 0.225])])\n",
        "\n",
        "test_transforms = transforms.Compose([transforms.Resize(255),\n",
        "                                      transforms.CenterCrop(224),\n",
        "                                      transforms.ToTensor(),\n",
        "                                      transforms.Normalize([0.485, 0.456, 0.406],\n",
        "                                                           [0.229, 0.224, 0.225])])\n",
        "\n",
        "# Pass transforms in here, then run the next cell to see how the transforms look\n",
        "train_data = datasets.ImageFolder(data_dir + '/train', transform=train_transforms)\n",
        "test_data = datasets.ImageFolder(data_dir + '/valid', transform=test_transforms)\n",
        "\n",
        "train_loader = torch.utils.data.DataLoader(train_data, batch_size=64, shuffle=True)\n",
        "test_loader = torch.utils.data.DataLoader(test_data, batch_size=64)"
      ],
      "execution_count": 0,
      "outputs": []
    },
    {
      "metadata": {
        "_uuid": "9ba34d99dd8144a4252d6cceaa708a4d55ad528a",
        "colab_type": "code",
        "id": "7SehRuuaRR-7",
        "outputId": "0a52a646-ba49-49a3-8ab6-94b23df6ab41",
        "colab": {
          "base_uri": "https://localhost:8080/",
          "height": 51
        }
      },
      "cell_type": "code",
      "source": [
        "model = models.densenet161(pretrained=True)"
      ],
      "execution_count": 6,
      "outputs": [
        {
          "output_type": "stream",
          "text": [
            "/usr/local/lib/python3.6/dist-packages/torchvision/models/densenet.py:212: UserWarning: nn.init.kaiming_normal is now deprecated in favor of nn.init.kaiming_normal_.\n",
            "  nn.init.kaiming_normal(m.weight.data)\n"
          ],
          "name": "stderr"
        }
      ]
    },
    {
      "metadata": {
        "_uuid": "af3963b47925fafcc822de63c1681563424d9d15",
        "colab_type": "code",
        "id": "eaBejicSRR_Q",
        "outputId": "7f866166-bfe7-4262-851a-0745a4d412de",
        "colab": {
          "base_uri": "https://localhost:8080/",
          "height": 136
        }
      },
      "cell_type": "code",
      "source": [
        "# Freeze parameters so we don't backprop through them\n",
        "for param in model.parameters():\n",
        "    param.requires_grad = False\n",
        "\n",
        "from collections import OrderedDict\n",
        "classifier = nn.Sequential(OrderedDict([\n",
        "    ('fc1', nn.Linear(2208, 1024)),\n",
        "    ('relu', nn.ReLU()),\n",
        "    ('dropout', nn.Dropout(0.4)),\n",
        "    ('fc2', nn.Linear(1024, 102)),\n",
        "    ('output', nn.LogSoftmax(dim=1))\n",
        "]))\n",
        "    \n",
        "model.classifier = classifier\n",
        "model.classifier"
      ],
      "execution_count": 7,
      "outputs": [
        {
          "output_type": "execute_result",
          "data": {
            "text/plain": [
              "Sequential(\n",
              "  (fc1): Linear(in_features=2208, out_features=1024, bias=True)\n",
              "  (relu): ReLU()\n",
              "  (dropout): Dropout(p=0.4)\n",
              "  (fc2): Linear(in_features=1024, out_features=102, bias=True)\n",
              "  (output): LogSoftmax()\n",
              ")"
            ]
          },
          "metadata": {
            "tags": []
          },
          "execution_count": 7
        }
      ]
    },
    {
      "metadata": {
        "_uuid": "543bd88ff970e12f4caea2d6631e82edf41a406d",
        "colab_type": "code",
        "id": "tLcPJP0NRR_d",
        "colab": {}
      },
      "cell_type": "code",
      "source": [
        "criterion = nn.CrossEntropyLoss()\n",
        "optimizer = optim.Adam(model.classifier.parameters(), lr=0.001)\n",
        "#scheduler = torch.optim.lr_scheduler.StepLR(optimizer, step_size=30, gamma=0.1)"
      ],
      "execution_count": 0,
      "outputs": []
    },
    {
      "metadata": {
        "_uuid": "f36e138047583ccceb04dfc84472675fbb99e111",
        "colab_type": "code",
        "id": "Dl1FlVu0RR_r",
        "outputId": "e75aac14-7297-4040-b76e-267f59d48bf7",
        "colab": {
          "base_uri": "https://localhost:8080/",
          "height": 34
        }
      },
      "cell_type": "code",
      "source": [
        "# check if CUDA is available\n",
        "train_on_gpu = torch.cuda.is_available()\n",
        "\n",
        "if not train_on_gpu:\n",
        "    print('CUDA is not available.  Training on CPU ...')\n",
        "else:\n",
        "    print('CUDA is available!  Training on GPU ...')"
      ],
      "execution_count": 9,
      "outputs": [
        {
          "output_type": "stream",
          "text": [
            "CUDA is available!  Training on GPU ...\n"
          ],
          "name": "stdout"
        }
      ]
    },
    {
      "metadata": {
        "_uuid": "38590d3b2ba55205662df7368674e659c8f2fb84",
        "colab_type": "code",
        "id": "OsLSqxI1RR_9",
        "outputId": "a6242f42-4d02-402c-d479-66b4f568ea57",
        "colab": {
          "base_uri": "https://localhost:8080/",
          "height": 1105
        }
      },
      "cell_type": "code",
      "source": [
        "device = torch.device(\"cuda\" if torch.cuda.is_available() else \"cpu\")\n",
        "model.to(device)\n",
        "epochs = 50\n",
        "\n",
        "valid_loss_min = np.Inf\n",
        "\n",
        "# Some lists to keep track of loss and accuracy during each epoch\n",
        "epoch_list = []\n",
        "train_loss_list = []\n",
        "val_loss_list = []\n",
        "train_acc_list = []\n",
        "val_acc_list = []\n",
        "# Start epochs\n",
        "for epoch in range(epochs):\n",
        "    \n",
        "    #adjust_learning_rate(optimizer, epoch)\n",
        "    \n",
        "    # monitor training loss\n",
        "    train_loss = 0.0\n",
        "    val_loss = 0.0\n",
        "    \n",
        "    ###################\n",
        "    # train the model #\n",
        "    ###################\n",
        "    # Set the training mode ON -> Activate Dropout Layers\n",
        "    model.train() # prepare model for training\n",
        "    # Calculate Accuracy         \n",
        "    correct = 0\n",
        "    total = 0\n",
        "    \n",
        "    # Load Train Images with Labels(Targets)\n",
        "    for data, target in train_loader:\n",
        "        \n",
        "        if train_on_gpu:\n",
        "            data, target = data.to(device), target.to(device)\n",
        "        \n",
        "        # clear the gradients of all optimized variables\n",
        "        optimizer.zero_grad()\n",
        "        # forward pass: compute predicted outputs by passing inputs to the model\n",
        "        output = model(data)\n",
        "        \n",
        "        if type(output) == tuple:\n",
        "            output, _ = output\n",
        "        \n",
        "        # Calculate Training Accuracy \n",
        "        predicted = torch.max(output.data, 1)[1]        \n",
        "        # Total number of labels\n",
        "        total += len(target)\n",
        "        # Total correct predictions\n",
        "        correct += (predicted == target).sum()\n",
        "        \n",
        "        # calculate the loss\n",
        "        loss = criterion(output, target)\n",
        "        # backward pass: compute gradient of the loss with respect to model parameters\n",
        "        loss.backward()\n",
        "        # perform a single optimization step (parameter update)\n",
        "        optimizer.step()\n",
        "        # update running training loss\n",
        "        train_loss += loss.item()*data.size(0)\n",
        "    \n",
        "    # calculate average training loss over an epoch\n",
        "    train_loss = train_loss/len(train_loader.dataset)\n",
        "    \n",
        "    # Avg Accuracy\n",
        "    accuracy = 100 * correct / float(total)\n",
        "    \n",
        "    # Put them in their list\n",
        "    train_acc_list.append(accuracy)\n",
        "    train_loss_list.append(train_loss)\n",
        "    \n",
        "        \n",
        "    # Implement Validation like K-fold Cross-validation \n",
        "    \n",
        "    # Set Evaluation Mode ON -> Turn Off Dropout\n",
        "    model.eval() # Required for Evaluation/Test\n",
        "\n",
        "    # Calculate Test/Validation Accuracy         \n",
        "    correct = 0\n",
        "    total = 0\n",
        "    with torch.no_grad():\n",
        "        for data, target in test_loader:\n",
        "\n",
        "\n",
        "            if train_on_gpu:\n",
        "                data, target = data.cuda(), target.cuda()\n",
        "\n",
        "            # Predict Output\n",
        "            output = model(data)\n",
        "            if type(output) == tuple:\n",
        "                output, _ = output\n",
        "\n",
        "            # Calculate Loss\n",
        "            loss = criterion(output, target)\n",
        "            val_loss += loss.item()*data.size(0)\n",
        "            # Get predictions from the maximum value\n",
        "            predicted = torch.max(output.data, 1)[1]\n",
        "\n",
        "            # Total number of labels\n",
        "            total += len(target)\n",
        "\n",
        "            # Total correct predictions\n",
        "            correct += (predicted == target).sum()\n",
        "    \n",
        "    # calculate average training loss and accuracy over an epoch\n",
        "    val_loss = val_loss/len(test_loader.dataset)\n",
        "    accuracy = 100 * correct/ float(total)\n",
        "    \n",
        "    # Put them in their list\n",
        "    val_acc_list.append(accuracy)\n",
        "    val_loss_list.append(val_loss)\n",
        "    \n",
        "    # Print the Epoch and Training Loss Details with Validation Accuracy   \n",
        "    print('Epoch: {} \\tTraining Loss: {:.4f}\\t Val. acc: {:.2f}%'.format(\n",
        "        epoch+1, \n",
        "        train_loss,\n",
        "        accuracy\n",
        "        ))\n",
        "    # save model if validation loss has decreased\n",
        "    if val_loss <= valid_loss_min:\n",
        "        print('Validation loss decreased ({:.6f} --> {:.6f}).  Saving model ...'.format(\n",
        "        valid_loss_min,\n",
        "        val_loss))\n",
        "        # Save Model State on Checkpoint\n",
        "        torch.save(model.state_dict(), 'umodel.pt')\n",
        "        valid_loss_min = val_loss\n",
        "    # Move to next epoch\n",
        "    epoch_list.append(epoch + 1)"
      ],
      "execution_count": 10,
      "outputs": [
        {
          "output_type": "stream",
          "text": [
            "Epoch: 1 \tTraining Loss: 3.0012\t Val. acc: 76.00%\n",
            "Validation loss decreased (inf --> 1.150416).  Saving model ...\n",
            "Epoch: 2 \tTraining Loss: 1.1652\t Val. acc: 89.00%\n",
            "Validation loss decreased (1.150416 --> 0.536424).  Saving model ...\n",
            "Epoch: 3 \tTraining Loss: 0.7704\t Val. acc: 91.00%\n",
            "Validation loss decreased (0.536424 --> 0.382065).  Saving model ...\n",
            "Epoch: 4 \tTraining Loss: 0.6249\t Val. acc: 93.00%\n",
            "Validation loss decreased (0.382065 --> 0.306825).  Saving model ...\n",
            "Epoch: 5 \tTraining Loss: 0.5344\t Val. acc: 93.00%\n",
            "Validation loss decreased (0.306825 --> 0.294475).  Saving model ...\n",
            "Epoch: 6 \tTraining Loss: 0.4904\t Val. acc: 94.00%\n",
            "Validation loss decreased (0.294475 --> 0.239530).  Saving model ...\n",
            "Epoch: 7 \tTraining Loss: 0.4554\t Val. acc: 93.00%\n",
            "Validation loss decreased (0.239530 --> 0.232669).  Saving model ...\n",
            "Epoch: 8 \tTraining Loss: 0.4310\t Val. acc: 92.00%\n",
            "Epoch: 9 \tTraining Loss: 0.4010\t Val. acc: 92.00%\n",
            "Epoch: 10 \tTraining Loss: 0.3874\t Val. acc: 94.00%\n",
            "Validation loss decreased (0.232669 --> 0.223158).  Saving model ...\n",
            "Epoch: 11 \tTraining Loss: 0.3726\t Val. acc: 94.00%\n",
            "Validation loss decreased (0.223158 --> 0.199541).  Saving model ...\n",
            "Epoch: 12 \tTraining Loss: 0.3681\t Val. acc: 95.00%\n",
            "Epoch: 13 \tTraining Loss: 0.3383\t Val. acc: 95.00%\n",
            "Validation loss decreased (0.199541 --> 0.191901).  Saving model ...\n",
            "Epoch: 14 \tTraining Loss: 0.3414\t Val. acc: 94.00%\n",
            "Epoch: 15 \tTraining Loss: 0.3268\t Val. acc: 94.00%\n",
            "Validation loss decreased (0.191901 --> 0.184497).  Saving model ...\n",
            "Epoch: 16 \tTraining Loss: 0.3163\t Val. acc: 95.00%\n",
            "Validation loss decreased (0.184497 --> 0.171930).  Saving model ...\n",
            "Epoch: 17 \tTraining Loss: 0.3185\t Val. acc: 95.00%\n",
            "Epoch: 18 \tTraining Loss: 0.3127\t Val. acc: 94.00%\n",
            "Epoch: 19 \tTraining Loss: 0.3217\t Val. acc: 94.00%\n",
            "Epoch: 20 \tTraining Loss: 0.2876\t Val. acc: 95.00%\n",
            "Epoch: 21 \tTraining Loss: 0.3108\t Val. acc: 95.00%\n",
            "Validation loss decreased (0.171930 --> 0.159242).  Saving model ...\n",
            "Epoch: 22 \tTraining Loss: 0.2773\t Val. acc: 94.00%\n",
            "Epoch: 23 \tTraining Loss: 0.3061\t Val. acc: 95.00%\n",
            "Epoch: 24 \tTraining Loss: 0.3001\t Val. acc: 95.00%\n",
            "Epoch: 25 \tTraining Loss: 0.2868\t Val. acc: 95.00%\n",
            "Epoch: 26 \tTraining Loss: 0.2905\t Val. acc: 95.00%\n",
            "Epoch: 27 \tTraining Loss: 0.2620\t Val. acc: 95.00%\n",
            "Epoch: 28 \tTraining Loss: 0.2780\t Val. acc: 95.00%\n",
            "Epoch: 29 \tTraining Loss: 0.2550\t Val. acc: 96.00%\n",
            "Epoch: 30 \tTraining Loss: 0.2748\t Val. acc: 95.00%\n",
            "Epoch: 31 \tTraining Loss: 0.2585\t Val. acc: 95.00%\n",
            "Epoch: 32 \tTraining Loss: 0.2935\t Val. acc: 95.00%\n",
            "Epoch: 33 \tTraining Loss: 0.2865\t Val. acc: 96.00%\n",
            "Validation loss decreased (0.159242 --> 0.149445).  Saving model ...\n",
            "Epoch: 34 \tTraining Loss: 0.2582\t Val. acc: 95.00%\n",
            "Epoch: 35 \tTraining Loss: 0.2717\t Val. acc: 95.00%\n",
            "Epoch: 36 \tTraining Loss: 0.2587\t Val. acc: 95.00%\n",
            "Epoch: 37 \tTraining Loss: 0.2517\t Val. acc: 96.00%\n",
            "Epoch: 38 \tTraining Loss: 0.2719\t Val. acc: 95.00%\n",
            "Epoch: 39 \tTraining Loss: 0.2674\t Val. acc: 96.00%\n",
            "Epoch: 40 \tTraining Loss: 0.2740\t Val. acc: 96.00%\n",
            "Epoch: 41 \tTraining Loss: 0.2552\t Val. acc: 95.00%\n",
            "Epoch: 42 \tTraining Loss: 0.2626\t Val. acc: 95.00%\n",
            "Epoch: 43 \tTraining Loss: 0.2390\t Val. acc: 95.00%\n",
            "Epoch: 44 \tTraining Loss: 0.2573\t Val. acc: 95.00%\n",
            "Epoch: 45 \tTraining Loss: 0.2483\t Val. acc: 96.00%\n",
            "Epoch: 46 \tTraining Loss: 0.2679\t Val. acc: 95.00%\n",
            "Epoch: 47 \tTraining Loss: 0.2608\t Val. acc: 95.00%\n",
            "Epoch: 48 \tTraining Loss: 0.2384\t Val. acc: 95.00%\n",
            "Epoch: 49 \tTraining Loss: 0.2422\t Val. acc: 95.00%\n",
            "Epoch: 50 \tTraining Loss: 0.2472\t Val. acc: 95.00%\n"
          ],
          "name": "stdout"
        }
      ]
    },
    {
      "metadata": {
        "_uuid": "b9a9751f2cca1480f5a5586886b107d202e115ee",
        "colab_type": "text",
        "id": "uWaWx2-RRSAN"
      },
      "cell_type": "markdown",
      "source": [
        "## Links Here:  \n",
        "**Model State Checkpoint File: [umodel.pt](./umodel.pt)**   (Preferred)  "
      ]
    },
    {
      "metadata": {
        "_uuid": "7eba135cff29e71eace2ea5fc4f602e52b8ffa0d",
        "colab_type": "code",
        "id": "qKT7T0Z9RSAX",
        "colab": {}
      },
      "cell_type": "code",
      "source": [
        "#model.load_state_dict(torch.load('gdrive/My Drive/umodelscheduler.pt'))"
      ],
      "execution_count": 0,
      "outputs": []
    },
    {
      "metadata": {
        "_uuid": "460108459d896cf671c680a62ce300c5c0653124",
        "colab_type": "code",
        "id": "u7UsDEW-RSAy",
        "outputId": "05eb5fe9-3f5d-42db-bd88-e7d7640e00b6",
        "colab": {
          "base_uri": "https://localhost:8080/",
          "height": 294
        }
      },
      "cell_type": "code",
      "source": [
        "# Training / Validation Loss\n",
        "plt.plot(epoch_list,train_loss_list)\n",
        "plt.plot(val_loss_list)\n",
        "plt.xlabel(\"Epochs\")\n",
        "plt.ylabel(\"Loss\")\n",
        "plt.title(\"Training/Validation Loss vs Number of Epochs\")\n",
        "plt.legend(['Train', 'Valid'], loc='upper right')\n",
        "plt.show()"
      ],
      "execution_count": 12,
      "outputs": [
        {
          "output_type": "display_data",
          "data": {
            "image/png": "[encoded data removed]",
            "text/plain": [
              "<matplotlib.figure.Figure at 0x7fb2d9933748>"
            ]
          },
          "metadata": {
            "tags": [],
            "image/png": {
              "width": 384,
              "height": 277
            }
          }
        }
      ]
    },
    {
      "metadata": {
        "_uuid": "b1e4a168a3cb00c2b65b8ae2d201f326d5afa9c7",
        "colab_type": "code",
        "id": "1Nzc9-oDRSBU",
        "outputId": "9e38d755-d5bb-427b-ec25-980703e0f901",
        "colab": {
          "base_uri": "https://localhost:8080/",
          "height": 294
        }
      },
      "cell_type": "code",
      "source": [
        "# Train/Valid Accuracy\n",
        "plt.plot(epoch_list,train_acc_list)\n",
        "plt.plot(val_acc_list)\n",
        "plt.xlabel(\"Epochs\")\n",
        "plt.ylabel(\"Training/Validation Accuracy\")\n",
        "plt.title(\"Accuracy vs Number of Epochs\")\n",
        "plt.legend(['Train', 'Valid'], loc='best')\n",
        "plt.show()"
      ],
      "execution_count": 13,
      "outputs": [
        {
          "output_type": "display_data",
          "data": {
            "image/png": "[encoded data removed]",
            "text/plain": [
              "<matplotlib.figure.Figure at 0x7fb2d5f1b208>"
            ]
          },
          "metadata": {
            "tags": [],
            "image/png": {
              "width": 381,
              "height": 277
            }
          }
        }
      ]
    },
    {
      "metadata": {
        "_uuid": "cd2bef52ac96c84fcbe3580ab82e459a434a7f61",
        "colab_type": "code",
        "id": "iGANqqDARSBr",
        "outputId": "5969d0f4-ba4b-452d-a671-b934eddd5336",
        "colab": {
          "base_uri": "https://localhost:8080/",
          "height": 34
        }
      },
      "cell_type": "code",
      "source": [
        "val_acc = sum(val_acc_list[:]).item()/len(val_acc_list)\n",
        "print(\"Validation Accuracy of model = {} %\".format(val_acc))"
      ],
      "execution_count": 14,
      "outputs": [
        {
          "output_type": "stream",
          "text": [
            "Validation Accuracy of model = 94.14 %\n"
          ],
          "name": "stdout"
        }
      ]
    },
    {
      "metadata": {
        "_uuid": "d11d4774d1733a94a0cc1d5125830b62b40ad89e",
        "colab_type": "code",
        "id": "WTifvBn9RSCP",
        "outputId": "84070619-4cf9-4221-b123-c0f4914160fe",
        "colab": {
          "base_uri": "https://localhost:8080/",
          "height": 340
        }
      },
      "cell_type": "code",
      "source": [
        "!git clone https://github.com/GabrielePicco/deep-learning-flower-identifier\n",
        "!pip install airtable\n",
        "import sys\n",
        "sys.path.insert(0, 'deep-learning-flower-identifier')"
      ],
      "execution_count": 15,
      "outputs": [
        {
          "output_type": "stream",
          "text": [
            "Cloning into 'deep-learning-flower-identifier'...\n",
            "remote: Enumerating objects: 71, done.\u001b[K\n",
            "remote: Counting objects:   1% (1/71)   \u001b[K\rremote: Counting objects:   2% (2/71)   \u001b[K\rremote: Counting objects:   4% (3/71)   \u001b[K\rremote: Counting objects:   5% (4/71)   \u001b[K\rremote: Counting objects:   7% (5/71)   \u001b[K\rremote: Counting objects:   8% (6/71)   \u001b[K\rremote: Counting objects:   9% (7/71)   \u001b[K\rremote: Counting objects:  11% (8/71)   \u001b[K\rremote: Counting objects:  12% (9/71)   \u001b[K\rremote: Counting objects:  14% (10/71)   \u001b[K\rremote: Counting objects:  15% (11/71)   \u001b[K\rremote: Counting objects:  16% (12/71)   \u001b[K\rremote: Counting objects:  18% (13/71)   \u001b[K\rremote: Counting objects:  19% (14/71)   \u001b[K\rremote: Counting objects:  21% (15/71)   \u001b[K\rremote: Counting objects:  22% (16/71)   \u001b[K\rremote: Counting objects:  23% (17/71)   \u001b[K\rremote: Counting objects:  25% (18/71)   \u001b[K\rremote: Counting objects:  26% (19/71)   \u001b[K\rremote: Counting objects:  28% (20/71)   \u001b[K\rremote: Counting objects:  29% (21/71)   \u001b[K\rremote: Counting objects:  30% (22/71)   \u001b[K\rremote: Counting objects:  32% (23/71)   \u001b[K\rremote: Counting objects:  33% (24/71)   \u001b[K\rremote: Counting objects:  35% (25/71)   \u001b[K\rremote: Counting objects:  36% (26/71)   \u001b[K\rremote: Counting objects:  38% (27/71)   \u001b[K\rremote: Counting objects:  39% (28/71)   \u001b[K\rremote: Counting objects:  40% (29/71)   \u001b[K\rremote: Counting objects:  42% (30/71)   \u001b[K\rremote: Counting objects:  43% (31/71)   \u001b[K\rremote: Counting objects:  45% (32/71)   \u001b[K\rremote: Counting objects:  46% (33/71)   \u001b[K\rremote: Counting objects:  47% (34/71)   \u001b[K\rremote: Counting objects:  49% (35/71)   \u001b[K\rremote: Counting objects:  50% (36/71)   \u001b[K\rremote: Counting objects:  52% (37/71)   \u001b[K\rremote: Counting objects:  53% (38/71)   \u001b[K\rremote: Counting objects:  54% (39/71)   \u001b[K\rremote: Counting objects:  56% (40/71)   \u001b[K\rremote: Counting objects:  57% (41/71)   \u001b[K\rremote: Counting objects:  59% (42/71)   \u001b[K\rremote: Counting objects:  60% (43/71)   \u001b[K\rremote: Counting objects:  61% (44/71)   \u001b[K\rremote: Counting objects:  63% (45/71)   \u001b[K\rremote: Counting objects:  64% (46/71)   \u001b[K\rremote: Counting objects:  66% (47/71)   \u001b[K\rremote: Counting objects:  67% (48/71)   \u001b[K\rremote: Counting objects:  69% (49/71)   \u001b[K\rremote: Counting objects:  70% (50/71)   \u001b[K\rremote: Counting objects:  71% (51/71)   \u001b[K\rremote: Counting objects:  73% (52/71)   \u001b[K\rremote: Counting objects:  74% (53/71)   \u001b[K\rremote: Counting objects:  76% (54/71)   \u001b[K\rremote: Counting objects:  77% (55/71)   \u001b[K\rremote: Counting objects:  78% (56/71)   \u001b[K\rremote: Counting objects:  80% (57/71)   \u001b[K\rremote: Counting objects:  81% (58/71)   \u001b[K\rremote: Counting objects:  83% (59/71)   \u001b[K\rremote: Counting objects:  84% (60/71)   \u001b[K\rremote: Counting objects:  85% (61/71)   \u001b[K\rremote: Counting objects:  87% (62/71)   \u001b[K\rremote: Counting objects:  88% (63/71)   \u001b[K\rremote: Counting objects:  90% (64/71)   \u001b[K\rremote: Counting objects:  91% (65/71)   \u001b[K\rremote: Counting objects:  92% (66/71)   \u001b[K\rremote: Counting objects:  94% (67/71)   \u001b[K\rremote: Counting objects:  95% (68/71)   \u001b[K\rremote: Counting objects:  97% (69/71)   \u001b[K\rremote: Counting objects:  98% (70/71)   \u001b[K\rremote: Counting objects: 100% (71/71)   \u001b[K\rremote: Counting objects: 100% (71/71), done.\u001b[K\n",
            "remote: Compressing objects:   1% (1/65)   \u001b[K\rremote: Compressing objects:   3% (2/65)   \u001b[K\rremote: Compressing objects:   4% (3/65)   \u001b[K\rremote: Compressing objects:   6% (4/65)   \u001b[K\rremote: Compressing objects:   7% (5/65)   \u001b[K\rremote: Compressing objects:   9% (6/65)   \u001b[K\rremote: Compressing objects:  10% (7/65)   \u001b[K\rremote: Compressing objects:  12% (8/65)   \u001b[K\rremote: Compressing objects:  13% (9/65)   \u001b[K\rremote: Compressing objects:  15% (10/65)   \u001b[K\rremote: Compressing objects:  16% (11/65)   \u001b[K\rremote: Compressing objects:  18% (12/65)   \u001b[K\rremote: Compressing objects:  20% (13/65)   \u001b[K\rremote: Compressing objects:  21% (14/65)   \u001b[K\rremote: Compressing objects:  23% (15/65)   \u001b[K\rremote: Compressing objects:  24% (16/65)   \u001b[K\rremote: Compressing objects:  26% (17/65)   \u001b[K\rremote: Compressing objects:  27% (18/65)   \u001b[K\rremote: Compressing objects:  29% (19/65)   \u001b[K\rremote: Compressing objects:  30% (20/65)   \u001b[K\rremote: Compressing objects:  32% (21/65)   \u001b[K\rremote: Compressing objects:  33% (22/65)   \u001b[K\rremote: Compressing objects:  35% (23/65)   \u001b[K\rremote: Compressing objects:  36% (24/65)   \u001b[K\rremote: Compressing objects:  38% (25/65)   \u001b[K\rremote: Compressing objects:  40% (26/65)   \u001b[K\rremote: Compressing objects:  41% (27/65)   \u001b[K\rremote: Compressing objects:  43% (28/65)   \u001b[K\rremote: Compressing objects:  44% (29/65)   \u001b[K\rremote: Compressing objects:  46% (30/65)   \u001b[K\rremote: Compressing objects:  47% (31/65)   \u001b[K\rremote: Compressing objects:  49% (32/65)   \u001b[K\rremote: Compressing objects:  50% (33/65)   \u001b[K\rremote: Compressing objects:  52% (34/65)   \u001b[K\rremote: Compressing objects:  53% (35/65)   \u001b[K\rremote: Compressing objects:  55% (36/65)   \u001b[K\rremote: Compressing objects:  56% (37/65)   \u001b[K\rremote: Compressing objects:  58% (38/65)   \u001b[K\rremote: Compressing objects:  60% (39/65)   \u001b[K\rremote: Compressing objects:  61% (40/65)   \u001b[K\rremote: Compressing objects:  63% (41/65)   \u001b[K\rremote: Compressing objects:  64% (42/65)   \u001b[K\rremote: Compressing objects:  66% (43/65)   \u001b[K\rremote: Compressing objects:  67% (44/65)   \u001b[K\rremote: Compressing objects:  69% (45/65)   \u001b[K\rremote: Compressing objects:  70% (46/65)   \u001b[K\rremote: Compressing objects:  72% (47/65)   \u001b[K\rremote: Compressing objects:  73% (48/65)   \u001b[K\rremote: Compressing objects:  75% (49/65)   \u001b[K\rremote: Compressing objects:  76% (50/65)   \u001b[K\rremote: Compressing objects:  78% (51/65)   \u001b[K\rremote: Compressing objects:  80% (52/65)   \u001b[K\rremote: Compressing objects:  81% (53/65)   \u001b[K\rremote: Compressing objects:  83% (54/65)   \u001b[K\rremote: Compressing objects:  84% (55/65)   \u001b[K\rremote: Compressing objects:  86% (56/65)   \u001b[K\rremote: Compressing objects:  87% (57/65)   \u001b[K\rremote: Compressing objects:  89% (58/65)   \u001b[K\rremote: Compressing objects:  90% (59/65)   \u001b[K\rremote: Compressing objects:  92% (60/65)   \u001b[K\rremote: Compressing objects:  93% (61/65)   \u001b[K\rremote: Compressing objects:  95% (62/65)   \u001b[K\rremote: Compressing objects:  96% (63/65)   \u001b[K\rremote: Compressing objects:  98% (64/65)   \u001b[K\rremote: Compressing objects: 100% (65/65)   \u001b[K\rremote: Compressing objects: 100% (65/65), done.\u001b[K\n",
            "remote: Total 71 (delta 40), reused 31 (delta 4), pack-reused 0\u001b[K\n",
            "Unpacking objects:   1% (1/71)   \rUnpacking objects:   2% (2/71)   \rUnpacking objects:   4% (3/71)   \rUnpacking objects:   5% (4/71)   \rUnpacking objects:   7% (5/71)   \rUnpacking objects:   8% (6/71)   \rUnpacking objects:   9% (7/71)   \rUnpacking objects:  11% (8/71)   \rUnpacking objects:  12% (9/71)   \rUnpacking objects:  14% (10/71)   \rUnpacking objects:  15% (11/71)   \rUnpacking objects:  16% (12/71)   \rUnpacking objects:  18% (13/71)   \rUnpacking objects:  19% (14/71)   \rUnpacking objects:  21% (15/71)   \rUnpacking objects:  22% (16/71)   \rUnpacking objects:  23% (17/71)   \rUnpacking objects:  25% (18/71)   \rUnpacking objects:  26% (19/71)   \rUnpacking objects:  28% (20/71)   \rUnpacking objects:  29% (21/71)   \rUnpacking objects:  30% (22/71)   \rUnpacking objects:  32% (23/71)   \rUnpacking objects:  33% (24/71)   \rUnpacking objects:  35% (25/71)   \rUnpacking objects:  36% (26/71)   \rUnpacking objects:  38% (27/71)   \rUnpacking objects:  39% (28/71)   \rUnpacking objects:  40% (29/71)   \rUnpacking objects:  42% (30/71)   \rUnpacking objects:  43% (31/71)   \rUnpacking objects:  45% (32/71)   \rUnpacking objects:  46% (33/71)   \rUnpacking objects:  47% (34/71)   \rUnpacking objects:  49% (35/71)   \rUnpacking objects:  50% (36/71)   \rUnpacking objects:  52% (37/71)   \rUnpacking objects:  53% (38/71)   \rUnpacking objects:  54% (39/71)   \rUnpacking objects:  56% (40/71)   \rUnpacking objects:  57% (41/71)   \rUnpacking objects:  59% (42/71)   \rUnpacking objects:  60% (43/71)   \rUnpacking objects:  61% (44/71)   \rUnpacking objects:  63% (45/71)   \rUnpacking objects:  64% (46/71)   \rUnpacking objects:  66% (47/71)   \rUnpacking objects:  67% (48/71)   \rUnpacking objects:  69% (49/71)   \rUnpacking objects:  70% (50/71)   \rUnpacking objects:  71% (51/71)   \rUnpacking objects:  73% (52/71)   \rUnpacking objects:  74% (53/71)   \rUnpacking objects:  76% (54/71)   \rUnpacking objects:  77% (55/71)   \rUnpacking objects:  78% (56/71)   \rUnpacking objects:  80% (57/71)   \rUnpacking objects:  81% (58/71)   \rUnpacking objects:  83% (59/71)   \rUnpacking objects:  84% (60/71)   \rUnpacking objects:  85% (61/71)   \rUnpacking objects:  87% (62/71)   \rUnpacking objects:  88% (63/71)   \rUnpacking objects:  90% (64/71)   \rUnpacking objects:  91% (65/71)   \rUnpacking objects:  92% (66/71)   \rUnpacking objects:  94% (67/71)   \rUnpacking objects:  95% (68/71)   \rUnpacking objects:  97% (69/71)   \rUnpacking objects:  98% (70/71)   \rUnpacking objects: 100% (71/71)   \rUnpacking objects: 100% (71/71), done.\n",
            "Collecting airtable\n",
            "  Downloading https://files.pythonhosted.org/packages/a8/ef/8b2bee11988bb1b4df41454a999f855bd568a74b8b58fd92279bfb50fb56/airtable-0.3.1.tar.gz\n",
            "Requirement already satisfied: requests>=2.5.3 in /usr/local/lib/python3.6/dist-packages (from airtable) (2.18.4)\n",
            "Requirement already satisfied: idna<2.7,>=2.5 in /usr/local/lib/python3.6/dist-packages (from requests>=2.5.3->airtable) (2.6)\n",
            "Requirement already satisfied: certifi>=2017.4.17 in /usr/local/lib/python3.6/dist-packages (from requests>=2.5.3->airtable) (2018.11.29)\n",
            "Requirement already satisfied: chardet<3.1.0,>=3.0.2 in /usr/local/lib/python3.6/dist-packages (from requests>=2.5.3->airtable) (3.0.4)\n",
            "Requirement already satisfied: urllib3<1.23,>=1.21.1 in /usr/local/lib/python3.6/dist-packages (from requests>=2.5.3->airtable) (1.22)\n",
            "Building wheels for collected packages: airtable\n",
            "  Running setup.py bdist_wheel for airtable ... \u001b[?25l-\b \bdone\n",
            "\u001b[?25h  Stored in directory: /root/.cache/pip/wheels/9b/ba/63/364c02fabcd50ef6e2f101a57feb727bd7a693697765a9df17\n",
            "Successfully built airtable\n",
            "Installing collected packages: airtable\n",
            "Successfully installed airtable-0.3.1\n"
          ],
          "name": "stdout"
        }
      ]
    },
    {
      "metadata": {
        "_uuid": "d9ec0309453115326148e9481ced7863a9124ead",
        "colab_type": "code",
        "id": "pxhw_5QERSCo",
        "outputId": "972e1162-690e-412e-faa3-db6975978f92",
        "colab": {
          "base_uri": "https://localhost:8080/",
          "height": 527
        }
      },
      "cell_type": "code",
      "source": [
        "import sys\n",
        "sys.path.insert(0, 'deep-learning-flower-identifier')\n",
        "from test_model_pytorch_facebook_challenge import calc_accuracy\n",
        "calc_accuracy(model, input_image_size=224, use_google_testset=False)"
      ],
      "execution_count": 16,
      "outputs": [
        {
          "output_type": "stream",
          "text": [
            "Downloading the dataset from: https://www.dropbox.com/s/da6ye9genbsdzbq/flower_data_original_test.zip?dl=1\n"
          ],
          "name": "stdout"
        },
        {
          "output_type": "stream",
          "text": [
            "100.0% 35053568 / 35050314\n"
          ],
          "name": "stderr"
        },
        {
          "output_type": "stream",
          "text": [
            "Batch accuracy (Size 32): 1.0\n",
            "Batch accuracy (Size 32): 0.90625\n",
            "Batch accuracy (Size 32): 1.0\n",
            "Batch accuracy (Size 32): 0.96875\n",
            "Batch accuracy (Size 32): 0.875\n",
            "Batch accuracy (Size 32): 0.9375\n",
            "Batch accuracy (Size 32): 0.9375\n",
            "Batch accuracy (Size 32): 0.96875\n",
            "Batch accuracy (Size 32): 1.0\n",
            "Batch accuracy (Size 32): 1.0\n",
            "Batch accuracy (Size 32): 1.0\n",
            "Batch accuracy (Size 32): 0.96875\n",
            "Batch accuracy (Size 32): 1.0\n",
            "Batch accuracy (Size 32): 0.9375\n",
            "Batch accuracy (Size 32): 0.9375\n",
            "Batch accuracy (Size 32): 1.0\n",
            "Batch accuracy (Size 32): 0.96875\n",
            "Batch accuracy (Size 32): 0.9375\n",
            "Batch accuracy (Size 32): 0.96875\n",
            "Batch accuracy (Size 32): 0.96875\n",
            "Batch accuracy (Size 32): 1.0\n",
            "Batch accuracy (Size 32): 0.96875\n",
            "Batch accuracy (Size 32): 1.0\n",
            "Batch accuracy (Size 32): 1.0\n",
            "Batch accuracy (Size 32): 0.9375\n",
            "Batch accuracy (Size 32): 0.9473684430122375\n",
            "Mean accuracy: 0.9667257070541382\n"
          ],
          "name": "stdout"
        },
        {
          "output_type": "execute_result",
          "data": {
            "text/plain": [
              "0.9667257"
            ]
          },
          "metadata": {
            "tags": []
          },
          "execution_count": 16
        }
      ]
    }
  ]
}